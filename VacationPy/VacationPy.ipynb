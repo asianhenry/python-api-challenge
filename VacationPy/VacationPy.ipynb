{
 "cells": [
  {
   "cell_type": "markdown",
   "metadata": {},
   "source": [
    "# VacationPy\n",
    "----\n",
    "\n",
    "#### Note\n",
    "* Instructions have been included for each segment. You do not have to follow them exactly, but they are included to help you think through the steps."
   ]
  },
  {
   "cell_type": "code",
   "execution_count": 1,
   "metadata": {},
   "outputs": [],
   "source": [
    "# Dependencies and Setup\n",
    "import matplotlib.pyplot as plt\n",
    "import pandas as pd\n",
    "import numpy as np\n",
    "import requests\n",
    "import gmaps\n",
    "import os\n",
    "from pprint import pprint\n",
    "\n",
    "# Import API key\n",
    "from api_keys import g_key\n"
   ]
  },
  {
   "cell_type": "markdown",
   "metadata": {},
   "source": [
    "### Store Part I results into DataFrame\n",
    "* Load the csv exported in Part I to a DataFrame"
   ]
  },
  {
   "cell_type": "code",
   "execution_count": 2,
   "metadata": {},
   "outputs": [],
   "source": [
    "#load csv and create df\n",
    "city_weather_data = pd.read_csv('../output_data/weather_dataframe.csv')"
   ]
  },
  {
   "cell_type": "markdown",
   "metadata": {},
   "source": [
    "### Humidity Heatmap\n",
    "* Configure gmaps.\n",
    "* Use the Lat and Lng as locations and Humidity as the weight.\n",
    "* Add Heatmap layer to map."
   ]
  },
  {
   "cell_type": "code",
   "execution_count": 3,
   "metadata": {},
   "outputs": [],
   "source": [
    "#configure gmaps\n",
    "gmaps.configure(api_key=g_key)"
   ]
  },
  {
   "cell_type": "code",
   "execution_count": 4,
   "metadata": {},
   "outputs": [
    {
     "data": {
      "application/vnd.jupyter.widget-view+json": {
       "model_id": "e21e6682f5ed4087bd20f2b0d9fdf7a2",
       "version_major": 2,
       "version_minor": 0
      },
      "text/plain": [
       "Figure(layout=FigureLayout(height='420px'))"
      ]
     },
     "metadata": {},
     "output_type": "display_data"
    }
   ],
   "source": [
    "#columns for heatmap, making sure they are in number format\n",
    "locations = city_weather_data[[\"Lat\", \"Long\"]].astype(float)\n",
    "humidity =city_weather_data['Humidity'].astype(int)\n",
    "\n",
    "fig = gmaps.figure()\n",
    "\n",
    "#create heatlayer\n",
    "heat_layer = gmaps.heatmap_layer(locations, weights=humidity, \n",
    "                                 dissipating=False, max_intensity=100,\n",
    "                                 point_radius = 1)\n",
    "#add heatlayer\n",
    "fig.add_layer(heat_layer)\n",
    "\n",
    "fig"
   ]
  },
  {
   "cell_type": "markdown",
   "metadata": {},
   "source": [
    "### Create new DataFrame fitting weather criteria\n",
    "* Narrow down the cities to fit weather conditions.\n",
    "* Drop any rows will null values."
   ]
  },
  {
   "cell_type": "code",
   "execution_count": 5,
   "metadata": {},
   "outputs": [
    {
     "data": {
      "text/html": [
       "<div>\n",
       "<style scoped>\n",
       "    .dataframe tbody tr th:only-of-type {\n",
       "        vertical-align: middle;\n",
       "    }\n",
       "\n",
       "    .dataframe tbody tr th {\n",
       "        vertical-align: top;\n",
       "    }\n",
       "\n",
       "    .dataframe thead th {\n",
       "        text-align: right;\n",
       "    }\n",
       "</style>\n",
       "<table border=\"1\" class=\"dataframe\">\n",
       "  <thead>\n",
       "    <tr style=\"text-align: right;\">\n",
       "      <th></th>\n",
       "      <th>Unnamed: 0</th>\n",
       "      <th>City</th>\n",
       "      <th>Country</th>\n",
       "      <th>Lat</th>\n",
       "      <th>Long</th>\n",
       "      <th>Date</th>\n",
       "      <th>Max Temp</th>\n",
       "      <th>Humidity</th>\n",
       "      <th>Cloudiness</th>\n",
       "      <th>Wind Speed</th>\n",
       "    </tr>\n",
       "  </thead>\n",
       "  <tbody>\n",
       "    <tr>\n",
       "      <td>115</td>\n",
       "      <td>115</td>\n",
       "      <td>Svarstad</td>\n",
       "      <td>NO</td>\n",
       "      <td>59.40</td>\n",
       "      <td>9.97</td>\n",
       "      <td>1592425926</td>\n",
       "      <td>64.99</td>\n",
       "      <td>1</td>\n",
       "      <td>0</td>\n",
       "      <td>1.23</td>\n",
       "    </tr>\n",
       "    <tr>\n",
       "      <td>122</td>\n",
       "      <td>122</td>\n",
       "      <td>Srednekolymsk</td>\n",
       "      <td>RU</td>\n",
       "      <td>67.45</td>\n",
       "      <td>153.68</td>\n",
       "      <td>1592425793</td>\n",
       "      <td>78.12</td>\n",
       "      <td>34</td>\n",
       "      <td>0</td>\n",
       "      <td>7.81</td>\n",
       "    </tr>\n",
       "    <tr>\n",
       "      <td>379</td>\n",
       "      <td>379</td>\n",
       "      <td>Dawlatabad</td>\n",
       "      <td>AF</td>\n",
       "      <td>36.41</td>\n",
       "      <td>64.91</td>\n",
       "      <td>1592425975</td>\n",
       "      <td>77.49</td>\n",
       "      <td>17</td>\n",
       "      <td>0</td>\n",
       "      <td>4.59</td>\n",
       "    </tr>\n",
       "    <tr>\n",
       "      <td>384</td>\n",
       "      <td>384</td>\n",
       "      <td>Chitral</td>\n",
       "      <td>PK</td>\n",
       "      <td>35.85</td>\n",
       "      <td>71.79</td>\n",
       "      <td>1592425976</td>\n",
       "      <td>69.87</td>\n",
       "      <td>25</td>\n",
       "      <td>0</td>\n",
       "      <td>6.64</td>\n",
       "    </tr>\n",
       "    <tr>\n",
       "      <td>424</td>\n",
       "      <td>424</td>\n",
       "      <td>Miraflores</td>\n",
       "      <td>MX</td>\n",
       "      <td>19.22</td>\n",
       "      <td>-98.81</td>\n",
       "      <td>1592425983</td>\n",
       "      <td>78.80</td>\n",
       "      <td>27</td>\n",
       "      <td>40</td>\n",
       "      <td>8.05</td>\n",
       "    </tr>\n",
       "    <tr>\n",
       "      <td>523</td>\n",
       "      <td>523</td>\n",
       "      <td>West Wendover</td>\n",
       "      <td>US</td>\n",
       "      <td>40.74</td>\n",
       "      <td>-114.07</td>\n",
       "      <td>1592425999</td>\n",
       "      <td>64.40</td>\n",
       "      <td>23</td>\n",
       "      <td>1</td>\n",
       "      <td>4.70</td>\n",
       "    </tr>\n",
       "  </tbody>\n",
       "</table>\n",
       "</div>"
      ],
      "text/plain": [
       "     Unnamed: 0           City Country    Lat    Long        Date  Max Temp  \\\n",
       "115         115       Svarstad      NO  59.40    9.97  1592425926     64.99   \n",
       "122         122  Srednekolymsk      RU  67.45  153.68  1592425793     78.12   \n",
       "379         379     Dawlatabad      AF  36.41   64.91  1592425975     77.49   \n",
       "384         384        Chitral      PK  35.85   71.79  1592425976     69.87   \n",
       "424         424     Miraflores      MX  19.22  -98.81  1592425983     78.80   \n",
       "523         523  West Wendover      US  40.74 -114.07  1592425999     64.40   \n",
       "\n",
       "     Humidity  Cloudiness  Wind Speed  \n",
       "115         1           0        1.23  \n",
       "122        34           0        7.81  \n",
       "379        17           0        4.59  \n",
       "384        25           0        6.64  \n",
       "424        27          40        8.05  \n",
       "523        23           1        4.70  "
      ]
     },
     "execution_count": 5,
     "metadata": {},
     "output_type": "execute_result"
    }
   ],
   "source": [
    "#MY ideal weather conditions\n",
    "ideal_weather = city_weather_data.loc[((city_weather_data['Max Temp'] <= 80) &\n",
    "                                       (city_weather_data['Humidity'] <= 35) &\n",
    "                                       (city_weather_data['Wind Speed'] <= 10)&\n",
    "                                       (city_weather_data['Cloudiness'] <= 40)),:]\n",
    "ideal_weather"
   ]
  },
  {
   "cell_type": "markdown",
   "metadata": {},
   "source": [
    "### Hotel Map\n",
    "* Store into variable named `hotel_df`.\n",
    "* Add a \"Hotel Name\" column to the DataFrame.\n",
    "* Set parameters to search for hotels with 5000 meters.\n",
    "* Hit the Google Places API for each city's coordinates.\n",
    "* Store the first Hotel result into the DataFrame.\n",
    "* Plot markers on top of the heatmap."
   ]
  },
  {
   "cell_type": "code",
   "execution_count": 6,
   "metadata": {},
   "outputs": [],
   "source": [
    "#Just using this cell to call an individual response to look at data\n",
    "#base api url\n",
    "places_api = 'https://maps.googleapis.com/maps/api/place/nearbysearch/json?'\n",
    "lat = 37.19\t\n",
    "long = 10.18\n",
    "search_radius=5000\n",
    "place_type='lodging'\n",
    "keyword='hotel'\n",
    "query_url=f'{places_api}location={lat},{long}&radius={search_radius}&type={place_type}&keyword={keyword}&key={g_key}'\n",
    "testrun = requests.get(f'{query_url}').json()\n",
    "#pprint(testrun)\n",
    "#testrun['results'][0]#['name']"
   ]
  },
  {
   "cell_type": "code",
   "execution_count": 7,
   "metadata": {},
   "outputs": [
    {
     "name": "stdout",
     "output_type": "stream",
     "text": [
      "Processing request for Svarstad\n",
      "Nearest hotel: Sogn Gjestegard\n",
      "----------------------------\n",
      "Processing request for Srednekolymsk\n",
      "Missing field/result... skipping.\n",
      "----------------------------\n",
      "Processing request for Dawlatabad\n",
      "Missing field/result... skipping.\n",
      "----------------------------\n",
      "Processing request for Chitral\n",
      "Nearest hotel: Al Mughal Hotel\n",
      "----------------------------\n",
      "Processing request for Miraflores\n",
      "Nearest hotel: Hotel Mansión\n",
      "----------------------------\n",
      "Processing request for West Wendover\n",
      "Nearest hotel: Knights Inn Wendover\n",
      "----------------------------\n"
     ]
    }
   ],
   "source": [
    "#base url with parameters for data I need\n",
    "base_url = \"https://maps.googleapis.com/maps/api/place/nearbysearch/json\"\n",
    "params = {\n",
    "    \"radius\": 5000,\n",
    "    \"types\": \"lodging\",\n",
    "    \"keyword\": \"hotel\",\n",
    "    \"key\": g_key}\n",
    "\n",
    "#new list to append when getting responses\n",
    "hotel_names=[]\n",
    "\n",
    "\n",
    "for index, row in ideal_weather.iterrows():\n",
    "    latitudes = row[\"Lat\"]\n",
    "    longitudes = row[\"Long\"]\n",
    "    \n",
    "    #add locations paramter from ideal_weather df\n",
    "    params[\"location\"] = f\"{latitudes},{longitudes}\"\n",
    "\n",
    "    # make request and print process log\n",
    "    response = requests.get(base_url, params=params)\n",
    "    hotel_query= response.json()\n",
    "    print(f\"Processing request for {row['City']}\")\n",
    "     \n",
    "    #some cities will not have a nearby hotel in the given parameters, use try statement      \n",
    "    try:\n",
    "        hotel_names.append(hotel_query['results'][0]['name'])\n",
    "        print(f\"Nearest hotel: {hotel_query['results'][0]['name']}\")\n",
    "    except (KeyError, IndexError):\n",
    "        hotel_names.append('N/A')\n",
    "        print(\"Missing field/result... skipping.\")          \n",
    "    print('----------------------------')\n",
    " "
   ]
  },
  {
   "cell_type": "code",
   "execution_count": 8,
   "metadata": {},
   "outputs": [
    {
     "data": {
      "text/html": [
       "<div>\n",
       "<style scoped>\n",
       "    .dataframe tbody tr th:only-of-type {\n",
       "        vertical-align: middle;\n",
       "    }\n",
       "\n",
       "    .dataframe tbody tr th {\n",
       "        vertical-align: top;\n",
       "    }\n",
       "\n",
       "    .dataframe thead th {\n",
       "        text-align: right;\n",
       "    }\n",
       "</style>\n",
       "<table border=\"1\" class=\"dataframe\">\n",
       "  <thead>\n",
       "    <tr style=\"text-align: right;\">\n",
       "      <th></th>\n",
       "      <th>Unnamed: 0</th>\n",
       "      <th>City</th>\n",
       "      <th>Country</th>\n",
       "      <th>Lat</th>\n",
       "      <th>Long</th>\n",
       "      <th>Date</th>\n",
       "      <th>Max Temp</th>\n",
       "      <th>Humidity</th>\n",
       "      <th>Cloudiness</th>\n",
       "      <th>Wind Speed</th>\n",
       "      <th>Hotel Name</th>\n",
       "    </tr>\n",
       "  </thead>\n",
       "  <tbody>\n",
       "    <tr>\n",
       "      <td>115</td>\n",
       "      <td>115</td>\n",
       "      <td>Svarstad</td>\n",
       "      <td>NO</td>\n",
       "      <td>59.40</td>\n",
       "      <td>9.97</td>\n",
       "      <td>1592425926</td>\n",
       "      <td>64.99</td>\n",
       "      <td>1</td>\n",
       "      <td>0</td>\n",
       "      <td>1.23</td>\n",
       "      <td>Sogn Gjestegard</td>\n",
       "    </tr>\n",
       "    <tr>\n",
       "      <td>122</td>\n",
       "      <td>122</td>\n",
       "      <td>Srednekolymsk</td>\n",
       "      <td>RU</td>\n",
       "      <td>67.45</td>\n",
       "      <td>153.68</td>\n",
       "      <td>1592425793</td>\n",
       "      <td>78.12</td>\n",
       "      <td>34</td>\n",
       "      <td>0</td>\n",
       "      <td>7.81</td>\n",
       "      <td>N/A</td>\n",
       "    </tr>\n",
       "    <tr>\n",
       "      <td>379</td>\n",
       "      <td>379</td>\n",
       "      <td>Dawlatabad</td>\n",
       "      <td>AF</td>\n",
       "      <td>36.41</td>\n",
       "      <td>64.91</td>\n",
       "      <td>1592425975</td>\n",
       "      <td>77.49</td>\n",
       "      <td>17</td>\n",
       "      <td>0</td>\n",
       "      <td>4.59</td>\n",
       "      <td>N/A</td>\n",
       "    </tr>\n",
       "    <tr>\n",
       "      <td>384</td>\n",
       "      <td>384</td>\n",
       "      <td>Chitral</td>\n",
       "      <td>PK</td>\n",
       "      <td>35.85</td>\n",
       "      <td>71.79</td>\n",
       "      <td>1592425976</td>\n",
       "      <td>69.87</td>\n",
       "      <td>25</td>\n",
       "      <td>0</td>\n",
       "      <td>6.64</td>\n",
       "      <td>Al Mughal Hotel</td>\n",
       "    </tr>\n",
       "    <tr>\n",
       "      <td>424</td>\n",
       "      <td>424</td>\n",
       "      <td>Miraflores</td>\n",
       "      <td>MX</td>\n",
       "      <td>19.22</td>\n",
       "      <td>-98.81</td>\n",
       "      <td>1592425983</td>\n",
       "      <td>78.80</td>\n",
       "      <td>27</td>\n",
       "      <td>40</td>\n",
       "      <td>8.05</td>\n",
       "      <td>Hotel Mansión</td>\n",
       "    </tr>\n",
       "    <tr>\n",
       "      <td>523</td>\n",
       "      <td>523</td>\n",
       "      <td>West Wendover</td>\n",
       "      <td>US</td>\n",
       "      <td>40.74</td>\n",
       "      <td>-114.07</td>\n",
       "      <td>1592425999</td>\n",
       "      <td>64.40</td>\n",
       "      <td>23</td>\n",
       "      <td>1</td>\n",
       "      <td>4.70</td>\n",
       "      <td>Knights Inn Wendover</td>\n",
       "    </tr>\n",
       "  </tbody>\n",
       "</table>\n",
       "</div>"
      ],
      "text/plain": [
       "     Unnamed: 0           City Country    Lat    Long        Date  Max Temp  \\\n",
       "115         115       Svarstad      NO  59.40    9.97  1592425926     64.99   \n",
       "122         122  Srednekolymsk      RU  67.45  153.68  1592425793     78.12   \n",
       "379         379     Dawlatabad      AF  36.41   64.91  1592425975     77.49   \n",
       "384         384        Chitral      PK  35.85   71.79  1592425976     69.87   \n",
       "424         424     Miraflores      MX  19.22  -98.81  1592425983     78.80   \n",
       "523         523  West Wendover      US  40.74 -114.07  1592425999     64.40   \n",
       "\n",
       "     Humidity  Cloudiness  Wind Speed            Hotel Name  \n",
       "115         1           0        1.23       Sogn Gjestegard  \n",
       "122        34           0        7.81                   N/A  \n",
       "379        17           0        4.59                   N/A  \n",
       "384        25           0        6.64       Al Mughal Hotel  \n",
       "424        27          40        8.05         Hotel Mansión  \n",
       "523        23           1        4.70  Knights Inn Wendover  "
      ]
     },
     "execution_count": 8,
     "metadata": {},
     "output_type": "execute_result"
    }
   ],
   "source": [
    "#create new column from the hotel names list\n",
    "#had to use .copy for some reason not entirely sure why, getting an error if i didnt\n",
    "hotel_df=ideal_weather.copy()\n",
    "hotel_df['Hotel Name'] = hotel_names\n",
    "hotel_df"
   ]
  },
  {
   "cell_type": "code",
   "execution_count": 9,
   "metadata": {},
   "outputs": [],
   "source": [
    "# NOTE: Do not change any of the code in this cell\n",
    "\n",
    "# Using the template add the hotel marks to the heatmap\n",
    "info_box_template = \"\"\"\n",
    "<dl>\n",
    "<dt>Name</dt><dd>{Hotel Name}</dd>\n",
    "<dt>City</dt><dd>{City}</dd>\n",
    "<dt>Country</dt><dd>{Country}</dd>\n",
    "</dl>\n",
    "\"\"\"\n",
    "# Store the DataFrame Row\n",
    "# NOTE: be sure to update with your DataFrame name\n",
    "hotel_info = [info_box_template.format(**row) for index, row in hotel_df.iterrows()]\n",
    "locations = hotel_df[[\"Lat\", \"Long\"]]"
   ]
  },
  {
   "cell_type": "code",
   "execution_count": 10,
   "metadata": {},
   "outputs": [
    {
     "data": {
      "application/vnd.jupyter.widget-view+json": {
       "model_id": "e21e6682f5ed4087bd20f2b0d9fdf7a2",
       "version_major": 2,
       "version_minor": 0
      },
      "text/plain": [
       "Figure(layout=FigureLayout(height='420px'))"
      ]
     },
     "metadata": {},
     "output_type": "display_data"
    }
   ],
   "source": [
    "# Add marker layer ontop of heat map\n",
    "markers = gmaps.marker_layer(locations, info_box_content = hotel_info)\n",
    "# Add the layer to the map\n",
    "fig.add_layer(markers)\n",
    "# Display Map\n",
    "fig"
   ]
  }
 ],
 "metadata": {
  "kernelspec": {
   "display_name": "Python 3",
   "language": "python",
   "name": "python3"
  },
  "language_info": {
   "codemirror_mode": {
    "name": "ipython",
    "version": 3
   },
   "file_extension": ".py",
   "mimetype": "text/x-python",
   "name": "python",
   "nbconvert_exporter": "python",
   "pygments_lexer": "ipython3",
   "version": "3.7.4"
  },
  "latex_envs": {
   "LaTeX_envs_menu_present": true,
   "autoclose": false,
   "autocomplete": true,
   "bibliofile": "biblio.bib",
   "cite_by": "apalike",
   "current_citInitial": 1,
   "eqLabelWithNumbers": true,
   "eqNumInitial": 1,
   "hotkeys": {
    "equation": "Ctrl-E",
    "itemize": "Ctrl-I"
   },
   "labels_anchors": false,
   "latex_user_defs": false,
   "report_style_numbering": false,
   "user_envs_cfg": false
  }
 },
 "nbformat": 4,
 "nbformat_minor": 2
}
